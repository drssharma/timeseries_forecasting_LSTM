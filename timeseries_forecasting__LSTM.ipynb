{
  "nbformat": 4,
  "nbformat_minor": 0,
  "metadata": {
    "colab": {
      "name": "timeseries_forecasting _LSTM.ipynb",
      "provenance": [],
      "collapsed_sections": [],
      "authorship_tag": "ABX9TyMRIneFhJw8poIw7ZybjRDW",
      "include_colab_link": true
    },
    "kernelspec": {
      "name": "python3",
      "display_name": "Python 3"
    },
    "language_info": {
      "name": "python"
    }
  },
  "cells": [
    {
      "cell_type": "markdown",
      "metadata": {
        "id": "view-in-github",
        "colab_type": "text"
      },
      "source": [
        "<a href=\"https://colab.research.google.com/github/drssharma/timeseries_forecasting_LSTM/blob/main/timeseries_forecasting__LSTM.ipynb\" target=\"_parent\"><img src=\"https://colab.research.google.com/assets/colab-badge.svg\" alt=\"Open In Colab\"/></a>"
      ]
    },
    {
      "cell_type": "code",
      "execution_count": 65,
      "metadata": {
        "id": "KOt2e77xMQqf"
      },
      "outputs": [],
      "source": [
        "import pandas as pd\n",
        "import numpy as np\n",
        "import matplotlib.pyplot as plt"
      ]
    },
    {
      "cell_type": "code",
      "source": [
        "df = pd.read_csv('/content/monthly_milk_production.csv',index_col='Date',parse_dates=True)\n",
        "df.index.freq='MS'"
      ],
      "metadata": {
        "id": "xGYgH1w0MxQc"
      },
      "execution_count": 66,
      "outputs": []
    },
    {
      "cell_type": "code",
      "source": [
        "df.head()"
      ],
      "metadata": {
        "colab": {
          "base_uri": "https://localhost:8080/",
          "height": 237
        },
        "id": "FtSt2e_QNxi9",
        "outputId": "04327e83-caa6-48fa-b899-1494c8c91a3b"
      },
      "execution_count": 67,
      "outputs": [
        {
          "output_type": "execute_result",
          "data": {
            "text/plain": [
              "            Production\n",
              "Date                  \n",
              "1962-01-01         589\n",
              "1962-02-01         561\n",
              "1962-03-01         640\n",
              "1962-04-01         656\n",
              "1962-05-01         727"
            ],
            "text/html": [
              "\n",
              "  <div id=\"df-3c03df2b-6faf-42e1-ac87-d89956d2f55b\">\n",
              "    <div class=\"colab-df-container\">\n",
              "      <div>\n",
              "<style scoped>\n",
              "    .dataframe tbody tr th:only-of-type {\n",
              "        vertical-align: middle;\n",
              "    }\n",
              "\n",
              "    .dataframe tbody tr th {\n",
              "        vertical-align: top;\n",
              "    }\n",
              "\n",
              "    .dataframe thead th {\n",
              "        text-align: right;\n",
              "    }\n",
              "</style>\n",
              "<table border=\"1\" class=\"dataframe\">\n",
              "  <thead>\n",
              "    <tr style=\"text-align: right;\">\n",
              "      <th></th>\n",
              "      <th>Production</th>\n",
              "    </tr>\n",
              "    <tr>\n",
              "      <th>Date</th>\n",
              "      <th></th>\n",
              "    </tr>\n",
              "  </thead>\n",
              "  <tbody>\n",
              "    <tr>\n",
              "      <th>1962-01-01</th>\n",
              "      <td>589</td>\n",
              "    </tr>\n",
              "    <tr>\n",
              "      <th>1962-02-01</th>\n",
              "      <td>561</td>\n",
              "    </tr>\n",
              "    <tr>\n",
              "      <th>1962-03-01</th>\n",
              "      <td>640</td>\n",
              "    </tr>\n",
              "    <tr>\n",
              "      <th>1962-04-01</th>\n",
              "      <td>656</td>\n",
              "    </tr>\n",
              "    <tr>\n",
              "      <th>1962-05-01</th>\n",
              "      <td>727</td>\n",
              "    </tr>\n",
              "  </tbody>\n",
              "</table>\n",
              "</div>\n",
              "      <button class=\"colab-df-convert\" onclick=\"convertToInteractive('df-3c03df2b-6faf-42e1-ac87-d89956d2f55b')\"\n",
              "              title=\"Convert this dataframe to an interactive table.\"\n",
              "              style=\"display:none;\">\n",
              "        \n",
              "  <svg xmlns=\"http://www.w3.org/2000/svg\" height=\"24px\"viewBox=\"0 0 24 24\"\n",
              "       width=\"24px\">\n",
              "    <path d=\"M0 0h24v24H0V0z\" fill=\"none\"/>\n",
              "    <path d=\"M18.56 5.44l.94 2.06.94-2.06 2.06-.94-2.06-.94-.94-2.06-.94 2.06-2.06.94zm-11 1L8.5 8.5l.94-2.06 2.06-.94-2.06-.94L8.5 2.5l-.94 2.06-2.06.94zm10 10l.94 2.06.94-2.06 2.06-.94-2.06-.94-.94-2.06-.94 2.06-2.06.94z\"/><path d=\"M17.41 7.96l-1.37-1.37c-.4-.4-.92-.59-1.43-.59-.52 0-1.04.2-1.43.59L10.3 9.45l-7.72 7.72c-.78.78-.78 2.05 0 2.83L4 21.41c.39.39.9.59 1.41.59.51 0 1.02-.2 1.41-.59l7.78-7.78 2.81-2.81c.8-.78.8-2.07 0-2.86zM5.41 20L4 18.59l7.72-7.72 1.47 1.35L5.41 20z\"/>\n",
              "  </svg>\n",
              "      </button>\n",
              "      \n",
              "  <style>\n",
              "    .colab-df-container {\n",
              "      display:flex;\n",
              "      flex-wrap:wrap;\n",
              "      gap: 12px;\n",
              "    }\n",
              "\n",
              "    .colab-df-convert {\n",
              "      background-color: #E8F0FE;\n",
              "      border: none;\n",
              "      border-radius: 50%;\n",
              "      cursor: pointer;\n",
              "      display: none;\n",
              "      fill: #1967D2;\n",
              "      height: 32px;\n",
              "      padding: 0 0 0 0;\n",
              "      width: 32px;\n",
              "    }\n",
              "\n",
              "    .colab-df-convert:hover {\n",
              "      background-color: #E2EBFA;\n",
              "      box-shadow: 0px 1px 2px rgba(60, 64, 67, 0.3), 0px 1px 3px 1px rgba(60, 64, 67, 0.15);\n",
              "      fill: #174EA6;\n",
              "    }\n",
              "\n",
              "    [theme=dark] .colab-df-convert {\n",
              "      background-color: #3B4455;\n",
              "      fill: #D2E3FC;\n",
              "    }\n",
              "\n",
              "    [theme=dark] .colab-df-convert:hover {\n",
              "      background-color: #434B5C;\n",
              "      box-shadow: 0px 1px 3px 1px rgba(0, 0, 0, 0.15);\n",
              "      filter: drop-shadow(0px 1px 2px rgba(0, 0, 0, 0.3));\n",
              "      fill: #FFFFFF;\n",
              "    }\n",
              "  </style>\n",
              "\n",
              "      <script>\n",
              "        const buttonEl =\n",
              "          document.querySelector('#df-3c03df2b-6faf-42e1-ac87-d89956d2f55b button.colab-df-convert');\n",
              "        buttonEl.style.display =\n",
              "          google.colab.kernel.accessAllowed ? 'block' : 'none';\n",
              "\n",
              "        async function convertToInteractive(key) {\n",
              "          const element = document.querySelector('#df-3c03df2b-6faf-42e1-ac87-d89956d2f55b');\n",
              "          const dataTable =\n",
              "            await google.colab.kernel.invokeFunction('convertToInteractive',\n",
              "                                                     [key], {});\n",
              "          if (!dataTable) return;\n",
              "\n",
              "          const docLinkHtml = 'Like what you see? Visit the ' +\n",
              "            '<a target=\"_blank\" href=https://colab.research.google.com/notebooks/data_table.ipynb>data table notebook</a>'\n",
              "            + ' to learn more about interactive tables.';\n",
              "          element.innerHTML = '';\n",
              "          dataTable['output_type'] = 'display_data';\n",
              "          await google.colab.output.renderOutput(dataTable, element);\n",
              "          const docLink = document.createElement('div');\n",
              "          docLink.innerHTML = docLinkHtml;\n",
              "          element.appendChild(docLink);\n",
              "        }\n",
              "      </script>\n",
              "    </div>\n",
              "  </div>\n",
              "  "
            ]
          },
          "metadata": {},
          "execution_count": 67
        }
      ]
    },
    {
      "cell_type": "code",
      "source": [
        "df.info()"
      ],
      "metadata": {
        "colab": {
          "base_uri": "https://localhost:8080/"
        },
        "id": "cbW_l42ERPdK",
        "outputId": "a04ba606-0b3c-4940-9e96-dbaa79308390"
      },
      "execution_count": 68,
      "outputs": [
        {
          "output_type": "stream",
          "name": "stdout",
          "text": [
            "<class 'pandas.core.frame.DataFrame'>\n",
            "DatetimeIndex: 168 entries, 1962-01-01 to 1975-12-01\n",
            "Freq: MS\n",
            "Data columns (total 1 columns):\n",
            " #   Column      Non-Null Count  Dtype\n",
            "---  ------      --------------  -----\n",
            " 0   Production  168 non-null    int64\n",
            "dtypes: int64(1)\n",
            "memory usage: 2.6 KB\n"
          ]
        }
      ]
    },
    {
      "cell_type": "code",
      "source": [
        "df.plot(figsize=(12,6))"
      ],
      "metadata": {
        "colab": {
          "base_uri": "https://localhost:8080/",
          "height": 405
        },
        "id": "YGilqJEaQVjN",
        "outputId": "78512b2d-e226-439f-c033-9f07e0e05676"
      },
      "execution_count": 69,
      "outputs": [
        {
          "output_type": "execute_result",
          "data": {
            "text/plain": [
              "<matplotlib.axes._subplots.AxesSubplot at 0x7f7cdc0ec250>"
            ]
          },
          "metadata": {},
          "execution_count": 69
        },
        {
          "output_type": "display_data",
          "data": {
            "text/plain": [
              "<Figure size 864x432 with 1 Axes>"
            ],
            "image/png": "[encoded data removed]"
          },
          "metadata": {
            "needs_background": "light"
          }
        }
      ]
    },
    {
      "cell_type": "code",
      "source": [
        "from statsmodels.tsa.seasonal import seasonal_decompose"
      ],
      "metadata": {
        "id": "zAZzYT64QdsZ"
      },
      "execution_count": 70,
      "outputs": []
    },
    {
      "cell_type": "code",
      "source": [
        "results = seasonal_decompose(df['Production'])\n",
        "results.plot();"
      ],
      "metadata": {
        "colab": {
          "base_uri": "https://localhost:8080/",
          "height": 297
        },
        "id": "XTSYjMz7QncK",
        "outputId": "34c7fb29-dc60-452e-863a-dda10a8f799f"
      },
      "execution_count": 71,
      "outputs": [
        {
          "output_type": "display_data",
          "data": {
            "text/plain": [
              "<Figure size 432x288 with 4 Axes>"
            ],
            "image/png": "[encoded data removed]"
          },
          "metadata": {
            "needs_background": "light"
          }
        }
      ]
    },
    {
      "cell_type": "code",
      "source": [
        "len(df)"
      ],
      "metadata": {
        "colab": {
          "base_uri": "https://localhost:8080/"
        },
        "id": "i8Dz0xVBRDsG",
        "outputId": "6a853e41-6839-4b70-d5b8-9f54bd62066a"
      },
      "execution_count": 72,
      "outputs": [
        {
          "output_type": "execute_result",
          "data": {
            "text/plain": [
              "168"
            ]
          },
          "metadata": {},
          "execution_count": 72
        }
      ]
    },
    {
      "cell_type": "code",
      "source": [
        "train = df.iloc[:156]\n",
        "test = df.iloc[156:]"
      ],
      "metadata": {
        "id": "Qc3nMEjiRH0a"
      },
      "execution_count": 73,
      "outputs": []
    },
    {
      "cell_type": "code",
      "source": [
        "from sklearn.preprocessing import MinMaxScaler\n",
        "scaler = MinMaxScaler()"
      ],
      "metadata": {
        "id": "HG1jNAHbSyTx"
      },
      "execution_count": 74,
      "outputs": []
    },
    {
      "cell_type": "code",
      "source": [
        "df.head(),df.tail()"
      ],
      "metadata": {
        "colab": {
          "base_uri": "https://localhost:8080/"
        },
        "id": "jDsttNd_UxL8",
        "outputId": "48957da7-866d-4926-d1dd-1a98d808c292"
      },
      "execution_count": 75,
      "outputs": [
        {
          "output_type": "execute_result",
          "data": {
            "text/plain": [
              "(            Production\n",
              " Date                  \n",
              " 1962-01-01         589\n",
              " 1962-02-01         561\n",
              " 1962-03-01         640\n",
              " 1962-04-01         656\n",
              " 1962-05-01         727,             Production\n",
              " Date                  \n",
              " 1975-08-01         858\n",
              " 1975-09-01         817\n",
              " 1975-10-01         827\n",
              " 1975-11-01         797\n",
              " 1975-12-01         843)"
            ]
          },
          "metadata": {},
          "execution_count": 75
        }
      ]
    },
    {
      "cell_type": "code",
      "source": [
        "scaler.fit(train)\n",
        "scaled_train = scaler.transform(train)\n",
        "scaled_test = scaler.transform(test)"
      ],
      "metadata": {
        "id": "PYBOgbf3U5oC"
      },
      "execution_count": 76,
      "outputs": []
    },
    {
      "cell_type": "code",
      "source": [
        "scaled_train[:10]"
      ],
      "metadata": {
        "colab": {
          "base_uri": "https://localhost:8080/"
        },
        "id": "JuUZaIYKVWaA",
        "outputId": "86bbcc7d-c1d9-4fd5-d366-8b7ce4a70453"
      },
      "execution_count": 77,
      "outputs": [
        {
          "output_type": "execute_result",
          "data": {
            "text/plain": [
              "array([[0.08653846],\n",
              "       [0.01923077],\n",
              "       [0.20913462],\n",
              "       [0.24759615],\n",
              "       [0.41826923],\n",
              "       [0.34615385],\n",
              "       [0.20913462],\n",
              "       [0.11057692],\n",
              "       [0.03605769],\n",
              "       [0.05769231]])"
            ]
          },
          "metadata": {},
          "execution_count": 77
        }
      ]
    },
    {
      "cell_type": "code",
      "source": [
        "from keras.preprocessing.sequence import TimeseriesGenerator"
      ],
      "metadata": {
        "id": "LuJ0RJN6VBQ5"
      },
      "execution_count": 78,
      "outputs": []
    },
    {
      "cell_type": "code",
      "source": [
        "n_features = 1\n",
        "n_input = 12\n",
        "generator = TimeseriesGenerator(scaled_train, scaled_train, length=n_input, batch_size=1)"
      ],
      "metadata": {
        "id": "VsUeEwL9Vytw"
      },
      "execution_count": 79,
      "outputs": []
    },
    {
      "cell_type": "code",
      "source": [
        "from keras.models import Sequential\n",
        "from keras.layers import Dense\n",
        "from keras.layers import LSTM"
      ],
      "metadata": {
        "id": "n7sBhRf3WWr9"
      },
      "execution_count": 80,
      "outputs": []
    },
    {
      "cell_type": "code",
      "source": [
        "# define model\n",
        "model = Sequential()\n",
        "model.add(LSTM(100, activation='relu', input_shape=(n_input, n_features)))\n",
        "model.add(Dense(1))\n",
        "model.compile(optimizer='adam', loss='mse')"
      ],
      "metadata": {
        "id": "WbtiSPGcW1tP"
      },
      "execution_count": 81,
      "outputs": []
    },
    {
      "cell_type": "code",
      "source": [
        "model.summary()"
      ],
      "metadata": {
        "colab": {
          "base_uri": "https://localhost:8080/"
        },
        "id": "KwoqAYhDW6z8",
        "outputId": "dadcacdf-fe11-4376-9696-082043e5433e"
      },
      "execution_count": 82,
      "outputs": [
        {
          "output_type": "stream",
          "name": "stdout",
          "text": [
            "Model: \"sequential_3\"\n",
            "_________________________________________________________________\n",
            " Layer (type)                Output Shape              Param #   \n",
            "=================================================================\n",
            " lstm_1 (LSTM)               (None, 100)               40800     \n",
            "                                                                 \n",
            " dense_1 (Dense)             (None, 1)                 101       \n",
            "                                                                 \n",
            "=================================================================\n",
            "Total params: 40,901\n",
            "Trainable params: 40,901\n",
            "Non-trainable params: 0\n",
            "_________________________________________________________________\n"
          ]
        }
      ]
    },
    {
      "cell_type": "code",
      "source": [
        "# fit model\n",
        "model.fit(generator,epochs=50)"
      ],
      "metadata": {
        "colab": {
          "base_uri": "https://localhost:8080/"
        },
        "id": "95aNSTq2XAqP",
        "outputId": "83e32d52-f4c0-4f26-f14d-987017125839"
      },
      "execution_count": 83,
      "outputs": [
        {
          "output_type": "stream",
          "name": "stdout",
          "text": [
            "Epoch 1/50\n",
            "144/144 [==============================] - 2s 7ms/step - loss: 0.0519\n",
            "Epoch 2/50\n",
            "144/144 [==============================] - 1s 7ms/step - loss: 0.0246\n",
            "Epoch 3/50\n",
            "144/144 [==============================] - 1s 7ms/step - loss: 0.0185\n",
            "Epoch 4/50\n",
            "144/144 [==============================] - 1s 7ms/step - loss: 0.0127\n",
            "Epoch 5/50\n",
            "144/144 [==============================] - 1s 7ms/step - loss: 0.0128\n",
            "Epoch 6/50\n",
            "144/144 [==============================] - 1s 7ms/step - loss: 0.0065\n",
            "Epoch 7/50\n",
            "144/144 [==============================] - 1s 7ms/step - loss: 0.0043\n",
            "Epoch 8/50\n",
            "144/144 [==============================] - 1s 7ms/step - loss: 0.0065\n",
            "Epoch 9/50\n",
            "144/144 [==============================] - 1s 7ms/step - loss: 0.0032\n",
            "Epoch 10/50\n",
            "144/144 [==============================] - 1s 7ms/step - loss: 0.0028\n",
            "Epoch 11/50\n",
            "144/144 [==============================] - 1s 7ms/step - loss: 0.0029\n",
            "Epoch 12/50\n",
            "144/144 [==============================] - 1s 7ms/step - loss: 0.0034\n",
            "Epoch 13/50\n",
            "144/144 [==============================] - 1s 7ms/step - loss: 0.0034\n",
            "Epoch 14/50\n",
            "144/144 [==============================] - 1s 7ms/step - loss: 0.0034\n",
            "Epoch 15/50\n",
            "144/144 [==============================] - 1s 7ms/step - loss: 0.0081\n",
            "Epoch 16/50\n",
            "144/144 [==============================] - 1s 7ms/step - loss: 0.0047\n",
            "Epoch 17/50\n",
            "144/144 [==============================] - 1s 7ms/step - loss: 0.0031\n",
            "Epoch 18/50\n",
            "144/144 [==============================] - 1s 7ms/step - loss: 0.0034\n",
            "Epoch 19/50\n",
            "144/144 [==============================] - 1s 7ms/step - loss: 0.0026\n",
            "Epoch 20/50\n",
            "144/144 [==============================] - 1s 7ms/step - loss: 0.0026\n",
            "Epoch 21/50\n",
            "144/144 [==============================] - 1s 7ms/step - loss: 0.0032\n",
            "Epoch 22/50\n",
            "144/144 [==============================] - 1s 7ms/step - loss: 0.0023\n",
            "Epoch 23/50\n",
            "144/144 [==============================] - 1s 7ms/step - loss: 0.0033\n",
            "Epoch 24/50\n",
            "144/144 [==============================] - 1s 7ms/step - loss: 0.0027\n",
            "Epoch 25/50\n",
            "144/144 [==============================] - 1s 7ms/step - loss: 0.0028\n",
            "Epoch 26/50\n",
            "144/144 [==============================] - 1s 7ms/step - loss: 0.0026\n",
            "Epoch 27/50\n",
            "144/144 [==============================] - 1s 7ms/step - loss: 0.0027\n",
            "Epoch 28/50\n",
            "144/144 [==============================] - 1s 7ms/step - loss: 0.0025\n",
            "Epoch 29/50\n",
            "144/144 [==============================] - 1s 7ms/step - loss: 0.0026\n",
            "Epoch 30/50\n",
            "144/144 [==============================] - 1s 7ms/step - loss: 0.0025\n",
            "Epoch 31/50\n",
            "144/144 [==============================] - 1s 7ms/step - loss: 0.0022\n",
            "Epoch 32/50\n",
            "144/144 [==============================] - 1s 7ms/step - loss: 0.0032\n",
            "Epoch 33/50\n",
            "144/144 [==============================] - 1s 7ms/step - loss: 0.0027\n",
            "Epoch 34/50\n",
            "144/144 [==============================] - 1s 7ms/step - loss: 0.0022\n",
            "Epoch 35/50\n",
            "144/144 [==============================] - 1s 7ms/step - loss: 0.0022\n",
            "Epoch 36/50\n",
            "144/144 [==============================] - 1s 7ms/step - loss: 0.0023\n",
            "Epoch 37/50\n",
            "144/144 [==============================] - 1s 7ms/step - loss: 0.0021\n",
            "Epoch 38/50\n",
            "144/144 [==============================] - 1s 7ms/step - loss: 0.0023\n",
            "Epoch 39/50\n",
            "144/144 [==============================] - 1s 7ms/step - loss: 0.0022\n",
            "Epoch 40/50\n",
            "144/144 [==============================] - 1s 7ms/step - loss: 0.0029\n",
            "Epoch 41/50\n",
            "144/144 [==============================] - 1s 7ms/step - loss: 0.0019\n",
            "Epoch 42/50\n",
            "144/144 [==============================] - 1s 7ms/step - loss: 0.0023\n",
            "Epoch 43/50\n",
            "144/144 [==============================] - 1s 7ms/step - loss: 0.0032\n",
            "Epoch 44/50\n",
            "144/144 [==============================] - 1s 7ms/step - loss: 0.0019\n",
            "Epoch 45/50\n",
            "144/144 [==============================] - 1s 7ms/step - loss: 0.0021\n",
            "Epoch 46/50\n",
            "144/144 [==============================] - 1s 7ms/step - loss: 0.0022\n",
            "Epoch 47/50\n",
            "144/144 [==============================] - 1s 7ms/step - loss: 0.0018\n",
            "Epoch 48/50\n",
            "144/144 [==============================] - 1s 7ms/step - loss: 0.0021\n",
            "Epoch 49/50\n",
            "144/144 [==============================] - 1s 7ms/step - loss: 0.0025\n",
            "Epoch 50/50\n",
            "144/144 [==============================] - 1s 7ms/step - loss: 0.0018\n"
          ]
        },
        {
          "output_type": "execute_result",
          "data": {
            "text/plain": [
              "<keras.callbacks.History at 0x7f7cd7d364d0>"
            ]
          },
          "metadata": {},
          "execution_count": 83
        }
      ]
    },
    {
      "cell_type": "code",
      "source": [
        "loss_per_epoch = model.history.history['loss']\n",
        "plt.plot(range(len(loss_per_epoch)),loss_per_epoch)"
      ],
      "metadata": {
        "colab": {
          "base_uri": "https://localhost:8080/",
          "height": 282
        },
        "id": "WnFrjPueXsWM",
        "outputId": "87ec8950-ccf6-41f6-d59c-8f5dc11797ca"
      },
      "execution_count": 84,
      "outputs": [
        {
          "output_type": "execute_result",
          "data": {
            "text/plain": [
              "[<matplotlib.lines.Line2D at 0x7f7cd6945850>]"
            ]
          },
          "metadata": {},
          "execution_count": 84
        },
        {
          "output_type": "display_data",
          "data": {
            "text/plain": [
              "<Figure size 432x288 with 1 Axes>"
            ],
            "image/png": "[encoded data removed]"
          },
          "metadata": {
            "needs_background": "light"
          }
        }
      ]
    },
    {
      "cell_type": "code",
      "source": [
        "last_train_batch = scaled_train[-12:]"
      ],
      "metadata": {
        "id": "7ZSEFVi6az7M"
      },
      "execution_count": 85,
      "outputs": []
    },
    {
      "cell_type": "code",
      "source": [
        "last_train_batch = last_train_batch.reshape((1, n_input, n_features))"
      ],
      "metadata": {
        "id": "QyNQhldZa4CQ"
      },
      "execution_count": 86,
      "outputs": []
    },
    {
      "cell_type": "code",
      "source": [
        "model.predict(last_train_batch)"
      ],
      "metadata": {
        "colab": {
          "base_uri": "https://localhost:8080/"
        },
        "id": "lB5Bfo74a9Jw",
        "outputId": "6d2c6381-0a2f-4170-c2de-155dc8e2e5b4"
      },
      "execution_count": 87,
      "outputs": [
        {
          "output_type": "execute_result",
          "data": {
            "text/plain": [
              "array([[0.6483701]], dtype=float32)"
            ]
          },
          "metadata": {},
          "execution_count": 87
        }
      ]
    },
    {
      "cell_type": "code",
      "source": [
        "scaled_test[0]"
      ],
      "metadata": {
        "colab": {
          "base_uri": "https://localhost:8080/"
        },
        "id": "eAPHKD51bDhk",
        "outputId": "10f79ea9-4317-4d3e-ec73-2fc44a8d897c"
      },
      "execution_count": 88,
      "outputs": [
        {
          "output_type": "execute_result",
          "data": {
            "text/plain": [
              "array([0.67548077])"
            ]
          },
          "metadata": {},
          "execution_count": 88
        }
      ]
    },
    {
      "cell_type": "code",
      "source": [
        "test_predictions = []\n",
        "\n",
        "first_eval_batch = scaled_train[-n_input:]\n",
        "current_batch = first_eval_batch.reshape((1, n_input, n_features))\n",
        "\n",
        "for i in range(len(test)):\n",
        "    \n",
        "    # get the prediction value for the first batch\n",
        "    current_pred = model.predict(current_batch)[0]\n",
        "    \n",
        "    # append the prediction into the array\n",
        "    test_predictions.append(current_pred) \n",
        "    \n",
        "    # use the prediction to update the batch and remove the first value\n",
        "    current_batch = np.append(current_batch[:,1:,:],[[current_pred]],axis=1)"
      ],
      "metadata": {
        "id": "CoE2uadMbIyA"
      },
      "execution_count": 89,
      "outputs": []
    },
    {
      "cell_type": "code",
      "source": [
        "test_predictions"
      ],
      "metadata": {
        "colab": {
          "base_uri": "https://localhost:8080/"
        },
        "id": "-QweBzudbNT0",
        "outputId": "eea30674-b7cd-4483-c1e6-728bc566b631"
      },
      "execution_count": 90,
      "outputs": [
        {
          "output_type": "execute_result",
          "data": {
            "text/plain": [
              "[array([0.6483701], dtype=float32),\n",
              " array([0.61940885], dtype=float32),\n",
              " array([0.7988673], dtype=float32),\n",
              " array([0.86631626], dtype=float32),\n",
              " array([0.9764405], dtype=float32),\n",
              " array([0.9559831], dtype=float32),\n",
              " array([0.88363767], dtype=float32),\n",
              " array([0.785705], dtype=float32),\n",
              " array([0.677269], dtype=float32),\n",
              " array([0.6371062], dtype=float32),\n",
              " array([0.5834154], dtype=float32),\n",
              " array([0.62739325], dtype=float32)]"
            ]
          },
          "metadata": {},
          "execution_count": 90
        }
      ]
    },
    {
      "cell_type": "code",
      "source": [
        "test.head()"
      ],
      "metadata": {
        "colab": {
          "base_uri": "https://localhost:8080/",
          "height": 237
        },
        "id": "GJctuLP3bbkN",
        "outputId": "f7a2c0c4-64b6-4ba3-b553-093900699809"
      },
      "execution_count": 91,
      "outputs": [
        {
          "output_type": "execute_result",
          "data": {
            "text/plain": [
              "            Production\n",
              "Date                  \n",
              "1975-01-01         834\n",
              "1975-02-01         782\n",
              "1975-03-01         892\n",
              "1975-04-01         903\n",
              "1975-05-01         966"
            ],
            "text/html": [
              "\n",
              "  <div id=\"df-402dfe40-6a2e-470a-bdab-c0d16734a21a\">\n",
              "    <div class=\"colab-df-container\">\n",
              "      <div>\n",
              "<style scoped>\n",
              "    .dataframe tbody tr th:only-of-type {\n",
              "        vertical-align: middle;\n",
              "    }\n",
              "\n",
              "    .dataframe tbody tr th {\n",
              "        vertical-align: top;\n",
              "    }\n",
              "\n",
              "    .dataframe thead th {\n",
              "        text-align: right;\n",
              "    }\n",
              "</style>\n",
              "<table border=\"1\" class=\"dataframe\">\n",
              "  <thead>\n",
              "    <tr style=\"text-align: right;\">\n",
              "      <th></th>\n",
              "      <th>Production</th>\n",
              "    </tr>\n",
              "    <tr>\n",
              "      <th>Date</th>\n",
              "      <th></th>\n",
              "    </tr>\n",
              "  </thead>\n",
              "  <tbody>\n",
              "    <tr>\n",
              "      <th>1975-01-01</th>\n",
              "      <td>834</td>\n",
              "    </tr>\n",
              "    <tr>\n",
              "      <th>1975-02-01</th>\n",
              "      <td>782</td>\n",
              "    </tr>\n",
              "    <tr>\n",
              "      <th>1975-03-01</th>\n",
              "      <td>892</td>\n",
              "    </tr>\n",
              "    <tr>\n",
              "      <th>1975-04-01</th>\n",
              "      <td>903</td>\n",
              "    </tr>\n",
              "    <tr>\n",
              "      <th>1975-05-01</th>\n",
              "      <td>966</td>\n",
              "    </tr>\n",
              "  </tbody>\n",
              "</table>\n",
              "</div>\n",
              "      <button class=\"colab-df-convert\" onclick=\"convertToInteractive('df-402dfe40-6a2e-470a-bdab-c0d16734a21a')\"\n",
              "              title=\"Convert this dataframe to an interactive table.\"\n",
              "              style=\"display:none;\">\n",
              "        \n",
              "  <svg xmlns=\"http://www.w3.org/2000/svg\" height=\"24px\"viewBox=\"0 0 24 24\"\n",
              "       width=\"24px\">\n",
              "    <path d=\"M0 0h24v24H0V0z\" fill=\"none\"/>\n",
              "    <path d=\"M18.56 5.44l.94 2.06.94-2.06 2.06-.94-2.06-.94-.94-2.06-.94 2.06-2.06.94zm-11 1L8.5 8.5l.94-2.06 2.06-.94-2.06-.94L8.5 2.5l-.94 2.06-2.06.94zm10 10l.94 2.06.94-2.06 2.06-.94-2.06-.94-.94-2.06-.94 2.06-2.06.94z\"/><path d=\"M17.41 7.96l-1.37-1.37c-.4-.4-.92-.59-1.43-.59-.52 0-1.04.2-1.43.59L10.3 9.45l-7.72 7.72c-.78.78-.78 2.05 0 2.83L4 21.41c.39.39.9.59 1.41.59.51 0 1.02-.2 1.41-.59l7.78-7.78 2.81-2.81c.8-.78.8-2.07 0-2.86zM5.41 20L4 18.59l7.72-7.72 1.47 1.35L5.41 20z\"/>\n",
              "  </svg>\n",
              "      </button>\n",
              "      \n",
              "  <style>\n",
              "    .colab-df-container {\n",
              "      display:flex;\n",
              "      flex-wrap:wrap;\n",
              "      gap: 12px;\n",
              "    }\n",
              "\n",
              "    .colab-df-convert {\n",
              "      background-color: #E8F0FE;\n",
              "      border: none;\n",
              "      border-radius: 50%;\n",
              "      cursor: pointer;\n",
              "      display: none;\n",
              "      fill: #1967D2;\n",
              "      height: 32px;\n",
              "      padding: 0 0 0 0;\n",
              "      width: 32px;\n",
              "    }\n",
              "\n",
              "    .colab-df-convert:hover {\n",
              "      background-color: #E2EBFA;\n",
              "      box-shadow: 0px 1px 2px rgba(60, 64, 67, 0.3), 0px 1px 3px 1px rgba(60, 64, 67, 0.15);\n",
              "      fill: #174EA6;\n",
              "    }\n",
              "\n",
              "    [theme=dark] .colab-df-convert {\n",
              "      background-color: #3B4455;\n",
              "      fill: #D2E3FC;\n",
              "    }\n",
              "\n",
              "    [theme=dark] .colab-df-convert:hover {\n",
              "      background-color: #434B5C;\n",
              "      box-shadow: 0px 1px 3px 1px rgba(0, 0, 0, 0.15);\n",
              "      filter: drop-shadow(0px 1px 2px rgba(0, 0, 0, 0.3));\n",
              "      fill: #FFFFFF;\n",
              "    }\n",
              "  </style>\n",
              "\n",
              "      <script>\n",
              "        const buttonEl =\n",
              "          document.querySelector('#df-402dfe40-6a2e-470a-bdab-c0d16734a21a button.colab-df-convert');\n",
              "        buttonEl.style.display =\n",
              "          google.colab.kernel.accessAllowed ? 'block' : 'none';\n",
              "\n",
              "        async function convertToInteractive(key) {\n",
              "          const element = document.querySelector('#df-402dfe40-6a2e-470a-bdab-c0d16734a21a');\n",
              "          const dataTable =\n",
              "            await google.colab.kernel.invokeFunction('convertToInteractive',\n",
              "                                                     [key], {});\n",
              "          if (!dataTable) return;\n",
              "\n",
              "          const docLinkHtml = 'Like what you see? Visit the ' +\n",
              "            '<a target=\"_blank\" href=https://colab.research.google.com/notebooks/data_table.ipynb>data table notebook</a>'\n",
              "            + ' to learn more about interactive tables.';\n",
              "          element.innerHTML = '';\n",
              "          dataTable['output_type'] = 'display_data';\n",
              "          await google.colab.output.renderOutput(dataTable, element);\n",
              "          const docLink = document.createElement('div');\n",
              "          docLink.innerHTML = docLinkHtml;\n",
              "          element.appendChild(docLink);\n",
              "        }\n",
              "      </script>\n",
              "    </div>\n",
              "  </div>\n",
              "  "
            ]
          },
          "metadata": {},
          "execution_count": 91
        }
      ]
    },
    {
      "cell_type": "code",
      "source": [
        "true_predictions = scaler.inverse_transform(test_predictions)"
      ],
      "metadata": {
        "id": "hl-dzu4ibmT1"
      },
      "execution_count": 92,
      "outputs": []
    },
    {
      "cell_type": "code",
      "source": [
        "test['Predictions'] = true_predictions"
      ],
      "metadata": {
        "colab": {
          "base_uri": "https://localhost:8080/"
        },
        "id": "FJP7U0bmbqri",
        "outputId": "f11d8c5e-8983-4f0e-c4b9-61b5e50f2d69"
      },
      "execution_count": 93,
      "outputs": [
        {
          "output_type": "stream",
          "name": "stderr",
          "text": [
            "/usr/local/lib/python3.7/dist-packages/ipykernel_launcher.py:1: SettingWithCopyWarning: \n",
            "A value is trying to be set on a copy of a slice from a DataFrame.\n",
            "Try using .loc[row_indexer,col_indexer] = value instead\n",
            "\n",
            "See the caveats in the documentation: https://pandas.pydata.org/pandas-docs/stable/user_guide/indexing.html#returning-a-view-versus-a-copy\n",
            "  \"\"\"Entry point for launching an IPython kernel.\n"
          ]
        }
      ]
    },
    {
      "cell_type": "code",
      "source": [
        "test.plot(figsize=(14,5))"
      ],
      "metadata": {
        "colab": {
          "base_uri": "https://localhost:8080/",
          "height": 366
        },
        "id": "uoeR_xTnbw1E",
        "outputId": "3c6bd63c-3f1c-4649-ed92-f258949c44fd"
      },
      "execution_count": 94,
      "outputs": [
        {
          "output_type": "execute_result",
          "data": {
            "text/plain": [
              "<matplotlib.axes._subplots.AxesSubplot at 0x7f7cd68b4c90>"
            ]
          },
          "metadata": {},
          "execution_count": 94
        },
        {
          "output_type": "display_data",
          "data": {
            "text/plain": [
              "<Figure size 1008x360 with 1 Axes>"
            ],
            "image/png": "[encoded data removed]"
          },
          "metadata": {
            "needs_background": "light"
          }
        }
      ]
    },
    {
      "cell_type": "code",
      "source": [
        "from sklearn.metrics import mean_squared_error\n",
        "from math import sqrt\n",
        "rmse=sqrt(mean_squared_error(test['Production'],test['Predictions']))\n",
        "print(rmse)"
      ],
      "metadata": {
        "colab": {
          "base_uri": "https://localhost:8080/"
        },
        "id": "ClcSjhJ_cJ8Y",
        "outputId": "ad583584-40f1-4dec-cb74-126969a59c1e"
      },
      "execution_count": 95,
      "outputs": [
        {
          "output_type": "stream",
          "name": "stdout",
          "text": [
            "17.454645626859158\n"
          ]
        }
      ]
    }
  ]
}